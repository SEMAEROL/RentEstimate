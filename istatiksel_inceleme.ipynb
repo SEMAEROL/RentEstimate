{
 "cells": [
  {
   "cell_type": "markdown",
   "id": "4e3d620d",
   "metadata": {},
   "source": [
    "VERİLERİN İSTATİKSEL OLARAK İNCELENMESİ VE AYKIRI DEĞERLERİN AYIKLANMASI\n"
   ]
  },
  {
   "cell_type": "code",
   "execution_count": 3,
   "id": "b5d21d72",
   "metadata": {},
   "outputs": [],
   "source": [
    "import numpy as np \n",
    "import pandas as pd  \n",
    "import matplotlib.pyplot as plt \n",
    "\n",
    "\n"
   ]
  },
  {
   "cell_type": "code",
   "execution_count": 5,
   "id": "729cb57a",
   "metadata": {},
   "outputs": [
    {
     "name": "stdout",
     "output_type": "stream",
     "text": [
      "<class 'pandas.core.frame.DataFrame'>\n",
      "RangeIndex: 232 entries, 0 to 231\n",
      "Data columns (total 10 columns):\n",
      " #   Column        Non-Null Count  Dtype \n",
      "---  ------        --------------  ----- \n",
      " 0   location      232 non-null    object\n",
      " 1   city          232 non-null    object\n",
      " 2   district      232 non-null    object\n",
      " 3   neighborhood  232 non-null    object\n",
      " 4   room          232 non-null    int64 \n",
      " 5   living_room   232 non-null    int64 \n",
      " 6   area          232 non-null    int64 \n",
      " 7   age           232 non-null    int64 \n",
      " 8   floor         232 non-null    int64 \n",
      " 9   price         232 non-null    int64 \n",
      "dtypes: int64(6), object(4)\n",
      "memory usage: 18.3+ KB\n",
      "None\n"
     ]
    }
   ],
   "source": [
    "df= pd.read_csv('data.csv')\n",
    "print(df.info())"
   ]
  },
  {
   "cell_type": "code",
   "execution_count": 9,
   "id": "800f436a",
   "metadata": {},
   "outputs": [],
   "source": [
    "df['city'] = df['city'].astype('category')\n",
    "df['district'] = df['district'].astype('category')\n",
    "df['neighborhood'] = df['neighborhood'].astype('category')\n",
    "df['location'] = df['location'].astype('category')\n",
    "df['room'] = df['room'].astype('int')\n",
    "df['living_room'] = df['living_room'].astype('int')\n",
    "df['area'] = df['area'].astype('int')\n",
    "df['age'] = df['age'].astype('int')\n",
    "df['floor'] = df['floor'].astype('int')\n",
    "df['price'] = df['price'].astype('int')\n",
    "\n"
   ]
  },
  {
   "cell_type": "code",
   "execution_count": 10,
   "id": "5c243a5e",
   "metadata": {},
   "outputs": [
    {
     "name": "stdout",
     "output_type": "stream",
     "text": [
      "<class 'pandas.core.frame.DataFrame'>\n",
      "RangeIndex: 232 entries, 0 to 231\n",
      "Data columns (total 10 columns):\n",
      " #   Column        Non-Null Count  Dtype   \n",
      "---  ------        --------------  -----   \n",
      " 0   location      232 non-null    category\n",
      " 1   city          232 non-null    category\n",
      " 2   district      232 non-null    category\n",
      " 3   neighborhood  232 non-null    category\n",
      " 4   room          232 non-null    int64   \n",
      " 5   living_room   232 non-null    int64   \n",
      " 6   area          232 non-null    int64   \n",
      " 7   age           232 non-null    int64   \n",
      " 8   floor         232 non-null    int64   \n",
      " 9   price         232 non-null    int64   \n",
      "dtypes: category(4), int64(6)\n",
      "memory usage: 17.4 KB\n",
      "None\n"
     ]
    }
   ],
   "source": [
    "print(df.info())"
   ]
  },
  {
   "cell_type": "code",
   "execution_count": 11,
   "id": "f07bf156",
   "metadata": {},
   "outputs": [
    {
     "name": "stdout",
     "output_type": "stream",
     "text": [
      "Column: room, min: 0.5, max: 4.5\n",
      "Column: living_room, min: 1.0, max: 1.0\n",
      "Column: area, min: 30.0, max: 190.0\n",
      "Column: age, min: -25.875, max: 43.125\n",
      "Column: floor, min: -2.0, max: 6.0\n",
      "Column: price, min: -831250.0, max: 6818750.0\n"
     ]
    }
   ],
   "source": [
    "columns = df.select_dtypes(include=[np.number]).columns\n",
    "min_values = []\n",
    "max_values = []\n",
    "\n",
    "for column in columns:\n",
    "    Q1 = df[column].quantile(0.25)\n",
    "    Q3 = df[column].quantile(0.75)\n",
    "    IQR = Q3 - Q1\n",
    "    min_value = Q1 - 1.5 * IQR\n",
    "    max_value = Q3 + 1.5 * IQR\n",
    "    min_values.append(min_value)\n",
    "    max_values.append(max_value)\n",
    "    print(f\"Column: {column}, min: {min_value}, max: {max_value}\")\n"
   ]
  },
  {
   "cell_type": "markdown",
   "id": "23e3bf87",
   "metadata": {},
   "source": [
    "AYKIRI DEĞERLERİ TEMİZLEME İŞLEMLERİ"
   ]
  },
  {
   "cell_type": "code",
   "execution_count": 12,
   "id": "9ddb01dd",
   "metadata": {},
   "outputs": [],
   "source": [
    "for i, column in enumerate(columns):\n",
    "    df = df[(df[column] >= min_values[i]) & (df[column] <= max_values[i])]\n",
    "\n",
    "\n"
   ]
  },
  {
   "cell_type": "code",
   "execution_count": 13,
   "id": "3aa20369",
   "metadata": {},
   "outputs": [
    {
     "name": "stdout",
     "output_type": "stream",
     "text": [
      "<class 'pandas.core.frame.DataFrame'>\n",
      "Index: 197 entries, 0 to 231\n",
      "Data columns (total 10 columns):\n",
      " #   Column        Non-Null Count  Dtype   \n",
      "---  ------        --------------  -----   \n",
      " 0   location      197 non-null    category\n",
      " 1   city          197 non-null    category\n",
      " 2   district      197 non-null    category\n",
      " 3   neighborhood  197 non-null    category\n",
      " 4   room          197 non-null    int64   \n",
      " 5   living_room   197 non-null    int64   \n",
      " 6   area          197 non-null    int64   \n",
      " 7   age           197 non-null    int64   \n",
      " 8   floor         197 non-null    int64   \n",
      " 9   price         197 non-null    int64   \n",
      "dtypes: category(4), int64(6)\n",
      "memory usage: 17.0 KB\n",
      "None\n"
     ]
    }
   ],
   "source": [
    "print(df.info())"
   ]
  },
  {
   "cell_type": "code",
   "execution_count": 14,
   "id": "e6ed00dc",
   "metadata": {},
   "outputs": [
    {
     "name": "stdout",
     "output_type": "stream",
     "text": [
      "             room  living_room        area         age       floor  \\\n",
      "count  197.000000        197.0  197.000000  197.000000  197.000000   \n",
      "mean     2.512690          1.0  109.994924   10.314721    2.345178   \n",
      "std      0.792884          0.0   30.370753   10.831381    1.397023   \n",
      "min      1.000000          1.0   48.000000    0.000000   -1.000000   \n",
      "25%      2.000000          1.0   95.000000    0.000000    1.000000   \n",
      "50%      3.000000          1.0  110.000000    5.000000    2.000000   \n",
      "75%      3.000000          1.0  130.000000   20.000000    3.000000   \n",
      "max      4.000000          1.0  185.000000   40.000000    6.000000   \n",
      "\n",
      "              price  \n",
      "count  1.970000e+02  \n",
      "mean   3.067472e+06  \n",
      "std    1.204585e+06  \n",
      "min    6.550000e+05  \n",
      "25%    2.250000e+06  \n",
      "50%    2.890000e+06  \n",
      "75%    3.850000e+06  \n",
      "max    6.600000e+06  \n"
     ]
    }
   ],
   "source": [
    "print(df.describe())"
   ]
  },
  {
   "cell_type": "code",
   "execution_count": 17,
   "id": "dcb7c3e1",
   "metadata": {},
   "outputs": [],
   "source": [
    "df.to_csv('data_cleaned.csv', index=False)"
   ]
  }
 ],
 "metadata": {
  "kernelspec": {
   "display_name": "Python 3",
   "language": "python",
   "name": "python3"
  },
  "language_info": {
   "codemirror_mode": {
    "name": "ipython",
    "version": 3
   },
   "file_extension": ".py",
   "mimetype": "text/x-python",
   "name": "python",
   "nbconvert_exporter": "python",
   "pygments_lexer": "ipython3",
   "version": "3.13.0"
  }
 },
 "nbformat": 4,
 "nbformat_minor": 5
}
