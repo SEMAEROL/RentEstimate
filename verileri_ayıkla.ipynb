{
 "cells": [
  {
   "cell_type": "markdown",
   "id": "d5aa647c",
   "metadata": {},
   "source": [
    "Afyon için ev satış fiyatları tahminlemesi"
   ]
  },
  {
   "cell_type": "code",
   "execution_count": 79,
   "id": "ac18068d",
   "metadata": {},
   "outputs": [],
   "source": [
    "import os\n",
    "import numpy as np\n",
    "import pandas as pd\n"
   ]
  },
  {
   "cell_type": "code",
   "execution_count": 80,
   "id": "97832667",
   "metadata": {},
   "outputs": [],
   "source": [
    "def drop_columns(df, cols):\n",
    "    \"\"\"\n",
    "    This function removes the columns from a DataFrame.\n",
    "    \"\"\"\n",
    "    for col in cols:\n",
    "        try:\n",
    "            df.drop([col], axis=1, inplace=True)\n",
    "        except Exception as e:\n",
    "            print(f\"Bir hata oluştu: {e}\")"
   ]
  },
  {
   "cell_type": "code",
   "execution_count": 81,
   "id": "fa810019",
   "metadata": {},
   "outputs": [],
   "source": [
    "df = pd.read_csv('hepsiemlak.csv')\n"
   ]
  },
  {
   "cell_type": "code",
   "execution_count": 82,
   "id": "2761b00e",
   "metadata": {},
   "outputs": [
    {
     "ename": "FileNotFoundError",
     "evalue": "[WinError 3] Sistem belirtilen yolu bulamıyor: 'hepsiemlak'",
     "output_type": "error",
     "traceback": [
      "\u001b[31m---------------------------------------------------------------------------\u001b[39m",
      "\u001b[31mFileNotFoundError\u001b[39m                         Traceback (most recent call last)",
      "\u001b[36mCell\u001b[39m\u001b[36m \u001b[39m\u001b[32mIn[82]\u001b[39m\u001b[32m, line 1\u001b[39m\n\u001b[32m----> \u001b[39m\u001b[32m1\u001b[39m files = \u001b[43mos\u001b[49m\u001b[43m.\u001b[49m\u001b[43mlistdir\u001b[49m\u001b[43m(\u001b[49m\u001b[33;43m'\u001b[39;49m\u001b[33;43mhepsiemlak\u001b[39;49m\u001b[33;43m'\u001b[39;49m\u001b[43m)\u001b[49m\n\u001b[32m      2\u001b[39m df = pd.concat([pd.read_csv(\u001b[33mf\u001b[39m\u001b[33m\"\u001b[39m\u001b[33mhepsiemlak/\u001b[39m\u001b[38;5;132;01m{\u001b[39;00mfile\u001b[38;5;132;01m}\u001b[39;00m\u001b[33m\"\u001b[39m) \u001b[38;5;28;01mfor\u001b[39;00m file \u001b[38;5;129;01min\u001b[39;00m files], ignore_index=\u001b[38;5;28;01mTrue\u001b[39;00m)\n",
      "\u001b[31mFileNotFoundError\u001b[39m: [WinError 3] Sistem belirtilen yolu bulamıyor: 'hepsiemlak'"
     ]
    }
   ],
   "source": [
    "files = os.listdir('hepsiemlak')\n",
    "df = pd.concat([pd.read_csv(f\"hepsiemlak/{file}\") for file in files], ignore_index=True)"
   ]
  },
  {
   "cell_type": "code",
   "execution_count": 83,
   "id": "eba0ac2f",
   "metadata": {},
   "outputs": [
    {
     "name": "stdout",
     "output_type": "stream",
     "text": [
      "<class 'pandas.core.frame.DataFrame'>\n",
      "RangeIndex: 232 entries, 0 to 231\n",
      "Data columns (total 12 columns):\n",
      " #   Column              Non-Null Count  Dtype  \n",
      "---  ------              --------------  -----  \n",
      " 0   img-link href       232 non-null    object \n",
      " 1   photo-count         231 non-null    float64\n",
      " 2   list-view-price     232 non-null    object \n",
      " 3   list-view-date      232 non-null    object \n",
      " 4   celly               232 non-null    object \n",
      " 5   celly 2             232 non-null    object \n",
      " 6   celly 3             232 non-null    object \n",
      " 7   celly 4             232 non-null    object \n",
      " 8   list-view-header    232 non-null    object \n",
      " 9   list-view-location  232 non-null    object \n",
      " 10  wp-btn              228 non-null    object \n",
      " 11  he-lazy-image src   201 non-null    object \n",
      "dtypes: float64(1), object(11)\n",
      "memory usage: 21.9+ KB\n",
      "None\n"
     ]
    }
   ],
   "source": [
    "\n",
    "\n",
    "print(df.info())"
   ]
  },
  {
   "cell_type": "code",
   "execution_count": 84,
   "id": "11fce8fa",
   "metadata": {},
   "outputs": [
    {
     "name": "stdout",
     "output_type": "stream",
     "text": [
      "Index(['img-link href', 'photo-count', 'list-view-price', 'list-view-date',\n",
      "       'celly', 'celly 2', 'celly 3', 'celly 4', 'list-view-header',\n",
      "       'list-view-location', 'wp-btn', 'he-lazy-image src'],\n",
      "      dtype='object')\n"
     ]
    }
   ],
   "source": [
    "print(df.columns)\n"
   ]
  },
  {
   "cell_type": "code",
   "execution_count": 85,
   "id": "01480cf5",
   "metadata": {},
   "outputs": [
    {
     "name": "stdout",
     "output_type": "stream",
     "text": [
      "<class 'pandas.core.frame.DataFrame'>\n",
      "RangeIndex: 232 entries, 0 to 231\n",
      "Data columns (total 12 columns):\n",
      " #   Column              Non-Null Count  Dtype  \n",
      "---  ------              --------------  -----  \n",
      " 0   img-link href       232 non-null    object \n",
      " 1   photo-count         231 non-null    float64\n",
      " 2   list-view-price     232 non-null    object \n",
      " 3   list-view-date      232 non-null    object \n",
      " 4   celly               232 non-null    object \n",
      " 5   celly 2             232 non-null    object \n",
      " 6   celly 3             232 non-null    object \n",
      " 7   celly 4             232 non-null    object \n",
      " 8   list-view-header    232 non-null    object \n",
      " 9   list-view-location  232 non-null    object \n",
      " 10  wp-btn              228 non-null    object \n",
      " 11  he-lazy-image src   201 non-null    object \n",
      "dtypes: float64(1), object(11)\n",
      "memory usage: 21.9+ KB\n",
      "None\n"
     ]
    }
   ],
   "source": [
    "print(df.info())"
   ]
  },
  {
   "cell_type": "code",
   "execution_count": 102,
   "id": "75fb7cd7",
   "metadata": {},
   "outputs": [
    {
     "name": "stdout",
     "output_type": "stream",
     "text": [
      "               city  district          neighborhood\n",
      "118  afyonkarahisar    merkez               marulcu\n",
      "51   afyonkarahisar    merkez        ali_ihsan_pasa\n",
      "61   afyonkarahisar    merkez  maresal_fevzi_cakmak\n",
      "210  afyonkarahisar    merkez            guvenevler\n",
      "141  afyonkarahisar    merkez     hoca_ahmet_yesevi\n",
      "150  afyonkarahisar  ihsaniye   gazligol_yunus_emre\n",
      "53   afyonkarahisar    merkez               kanlica\n",
      "107  afyonkarahisar    merkez               erenler\n",
      "80   afyonkarahisar    merkez           dervis_pasa\n",
      "220  afyonkarahisar    merkez              selcuklu\n",
      "157  afyonkarahisar    merkez            cumhuriyet\n",
      "226  afyonkarahisar    merkez           dervis_pasa\n",
      "134  afyonkarahisar    merkez  maresal_fevzi_cakmak\n",
      "195  afyonkarahisar    merkez         ali_cetinkaya\n",
      "183  afyonkarahisar    merkez            dumlupinar\n",
      "130  afyonkarahisar    merkez             karsiyaka\n",
      "30   afyonkarahisar    merkez            battalgazi\n",
      "228  afyonkarahisar    merkez              selcuklu\n",
      "172  afyonkarahisar    merkez              mecidiye\n",
      "186  afyonkarahisar    merkez            cumhuriyet\n",
      "148  afyonkarahisar    merkez              taspinar\n",
      "101  afyonkarahisar    merkez     hoca_ahmet_yesevi\n",
      "215  afyonkarahisar    merkez                 fatih\n",
      "146  afyonkarahisar    merkez              sahipata\n",
      "86   afyonkarahisar    merkez                olucak\n",
      "213  afyonkarahisar    merkez       erkmen_hurriyet\n",
      "76   afyonkarahisar    merkez             kasimpasa\n",
      "64   afyonkarahisar    merkez               erenler\n",
      "3    afyonkarahisar    merkez              istiklal\n",
      "24   afyonkarahisar    merkez            dumlupinar\n",
      "184  afyonkarahisar   emirdag                  yeni\n",
      "62   afyonkarahisar    merkez               dortyol\n",
      "93   afyonkarahisar    merkez               erenler\n",
      "154  afyonkarahisar    merkez               karaman\n",
      "204  afyonkarahisar    merkez              selcuklu\n",
      "22   afyonkarahisar    merkez     erkmen_cumhuriyet\n",
      "1    afyonkarahisar    merkez                 fatih\n",
      "19   afyonkarahisar    merkez            dumlupinar\n",
      "143  afyonkarahisar    merkez               beyazit\n",
      "103  afyonkarahisar    merkez              selcuklu\n",
      "181  afyonkarahisar    merkez               kanlica\n",
      "9    afyonkarahisar    merkez              selcuklu\n",
      "117  afyonkarahisar    merkez                 zafer\n",
      "48   afyonkarahisar    merkez               erenler\n",
      "88   afyonkarahisar    merkez                 zafer\n",
      "214  afyonkarahisar    merkez               erenler\n",
      "136  afyonkarahisar    merkez                 zafer\n",
      "49   afyonkarahisar    merkez     hoca_ahmet_yesevi\n",
      "67   afyonkarahisar    merkez                 zafer\n",
      "36   afyonkarahisar     dinar     gazi_mehmet_cavus\n"
     ]
    }
   ],
   "source": [
    "print(df[['city', 'district', 'neighborhood']].sample(50))\n",
    "\n"
   ]
  },
  {
   "cell_type": "code",
   "execution_count": 87,
   "id": "786c0b67",
   "metadata": {},
   "outputs": [
    {
     "name": "stdout",
     "output_type": "stream",
     "text": [
      "Index(['img-link href', 'photo-count', 'list-view-price', 'list-view-date',\n",
      "       'celly', 'celly 2', 'celly 3', 'celly 4', 'list-view-header',\n",
      "       'list-view-location', 'wp-btn', 'he-lazy-image src'],\n",
      "      dtype='object')\n"
     ]
    }
   ],
   "source": [
    "print(df.columns)"
   ]
  },
  {
   "cell_type": "code",
   "execution_count": 88,
   "id": "7fb2640a",
   "metadata": {},
   "outputs": [
    {
     "name": "stdout",
     "output_type": "stream",
     "text": [
      "<class 'pandas.core.frame.DataFrame'>\n",
      "RangeIndex: 232 entries, 0 to 231\n",
      "Data columns (total 12 columns):\n",
      " #   Column              Non-Null Count  Dtype  \n",
      "---  ------              --------------  -----  \n",
      " 0   img-link href       232 non-null    object \n",
      " 1   photo-count         231 non-null    float64\n",
      " 2   list-view-price     232 non-null    object \n",
      " 3   list-view-date      232 non-null    object \n",
      " 4   celly               232 non-null    object \n",
      " 5   celly 2             232 non-null    object \n",
      " 6   celly 3             232 non-null    object \n",
      " 7   celly 4             232 non-null    object \n",
      " 8   list-view-header    232 non-null    object \n",
      " 9   list-view-location  232 non-null    object \n",
      " 10  wp-btn              228 non-null    object \n",
      " 11  he-lazy-image src   201 non-null    object \n",
      "dtypes: float64(1), object(11)\n",
      "memory usage: 21.9+ KB\n",
      "None\n"
     ]
    }
   ],
   "source": [
    "print(df.info())  "
   ]
  },
  {
   "cell_type": "code",
   "execution_count": 90,
   "id": "9f951e9e",
   "metadata": {},
   "outputs": [
    {
     "name": "stdout",
     "output_type": "stream",
     "text": [
      "<class 'pandas.core.frame.DataFrame'>\n",
      "RangeIndex: 232 entries, 0 to 231\n",
      "Data columns (total 12 columns):\n",
      " #   Column              Non-Null Count  Dtype  \n",
      "---  ------              --------------  -----  \n",
      " 0   img-link href       232 non-null    object \n",
      " 1   photo-count         231 non-null    float64\n",
      " 2   list-view-price     232 non-null    object \n",
      " 3   list-view-date      232 non-null    object \n",
      " 4   celly               232 non-null    object \n",
      " 5   celly 2             232 non-null    object \n",
      " 6   celly 3             232 non-null    object \n",
      " 7   celly 4             232 non-null    object \n",
      " 8   list-view-header    232 non-null    object \n",
      " 9   list-view-location  232 non-null    object \n",
      " 10  wp-btn              228 non-null    object \n",
      " 11  he-lazy-image src   201 non-null    object \n",
      "dtypes: float64(1), object(11)\n",
      "memory usage: 21.9+ KB\n",
      "None\n"
     ]
    }
   ],
   "source": [
    "df.drop(['photo-count','list-view-date','list-view-header','wp-btn ','he-lazy-image src '], errors='ignore')\n",
    "df.head()\n",
    "print(df.info())"
   ]
  },
  {
   "cell_type": "code",
   "execution_count": 101,
   "id": "ebca58f1",
   "metadata": {},
   "outputs": [
    {
     "name": "stdout",
     "output_type": "stream",
     "text": [
      "['selcuklu' 'fatih' 'guvenevler' 'istiklal' 'dumlupinar' 'cumhuriyet'\n",
      " 'gazi' 'erkmen_hurriyet' 'erenler' 'pancar' 'esrefpasa' 'korubasi'\n",
      " 'dortyol' 'maresal_fevzi_cakmak' 'kanlica' 'erkmen_cumhuriyet' 'karaman'\n",
      " 'hoca_ahmet_yesevi' 'ihsaniye' 'battalgazi' 'zafer' 'hattat_karahisar'\n",
      " 'dervis_pasa' 'gazi_mehmet_cavus' 'marulcu' 'hasan_karaagac' 'ornekevler'\n",
      " 'kocatepe' 'yarenler' 'ali_ihsan_pasa' 'ece' 'sadikbey' 'kasimpasa'\n",
      " 'sahipata' 'esentepe' 'yaylabagi_bahcelievler' 'olucak' 'osman_gazi'\n",
      " 'cay' 'erkmen_fevzi_cakmak' 'camikebir' 'hamidiye' 'karsiyaka' 'beyazit'\n",
      " 'taspinar' 'gazligol_yunus_emre' 'nazmi_saatci' 'mecidiye' 'burmali'\n",
      " 'yaylabagi_esentepe' 'yeni' 'ali_cetinkaya' 'yaylabagi_ataturk' 'elbiz'\n",
      " 'susuz_sakarya' 'akmescit' 'sulun_hisar' 'yenice']\n"
     ]
    }
   ],
   "source": [
    "df['location'] = df['img-link href'].apply(lambda x: x.split('/')[3])\n",
    "df['city'] = df['location'].str.split('-').str[0]\n",
    "df['district'] = df['location'].str.split('-').str[1]\n",
    "df['neighborhood'] = df['location'].str.split('-').str[2:-1]\n",
    "df['neighborhood'] = df['neighborhood'].apply(lambda x: '_'.join(x))\n",
    "print(df['neighborhood'].unique())\n"
   ]
  },
  {
   "cell_type": "code",
   "execution_count": 99,
   "id": "0c610038",
   "metadata": {},
   "outputs": [
    {
     "name": "stdout",
     "output_type": "stream",
     "text": [
      "afyonkarahisar-merkez-selcuklu-satilik\n"
     ]
    }
   ],
   "source": [
    "s = \"https://www.hepsiemlak.com/afyonkarahisar-merkez-selcuklu-satilik/daire/156595-63\"\n",
    "x = s.split('/')[3]\n",
    "print (x)\n",
    "\n"
   ]
  },
  {
   "cell_type": "code",
   "execution_count": 98,
   "id": "b82ce2a6",
   "metadata": {},
   "outputs": [
    {
     "data": {
      "text/plain": [
       "['afyonkarahisar', 'merkez', 'selcuklu', 'satilik']"
      ]
     },
     "execution_count": 98,
     "metadata": {},
     "output_type": "execute_result"
    }
   ],
   "source": [
    "x.split('-')\n"
   ]
  },
  {
   "cell_type": "code",
   "execution_count": 105,
   "id": "0d44aaf9",
   "metadata": {},
   "outputs": [
    {
     "name": "stdout",
     "output_type": "stream",
     "text": [
      "               city  district          neighborhood\n",
      "188  afyonkarahisar    merkez                 fatih\n",
      "136  afyonkarahisar    merkez                 zafer\n",
      "195  afyonkarahisar    merkez         ali_cetinkaya\n",
      "22   afyonkarahisar    merkez     erkmen_cumhuriyet\n",
      "132  afyonkarahisar    merkez  maresal_fevzi_cakmak\n",
      "28   afyonkarahisar  bolvadin              ihsaniye\n",
      "44   afyonkarahisar    merkez              yarenler\n",
      "56   afyonkarahisar    merkez            ornekevler\n",
      "231  afyonkarahisar    merkez                yenice\n",
      "3    afyonkarahisar    merkez              istiklal\n",
      "213  afyonkarahisar    merkez       erkmen_hurriyet\n",
      "200  afyonkarahisar    merkez               erenler\n",
      "139  afyonkarahisar    merkez              esentepe\n",
      "181  afyonkarahisar    merkez               kanlica\n",
      "80   afyonkarahisar    merkez           dervis_pasa\n",
      "186  afyonkarahisar    merkez            cumhuriyet\n",
      "58   afyonkarahisar    merkez               dortyol\n",
      "184  afyonkarahisar   emirdag                  yeni\n",
      "223  afyonkarahisar    merkez              akmescit\n",
      "129  afyonkarahisar    merkez            cumhuriyet\n",
      "23   afyonkarahisar    merkez               karaman\n",
      "173  afyonkarahisar    merkez              mecidiye\n",
      "9    afyonkarahisar    merkez              selcuklu\n",
      "38   afyonkarahisar    merkez               marulcu\n",
      "202  afyonkarahisar    merkez                 zafer\n",
      "54   afyonkarahisar    merkez               erenler\n",
      "159  afyonkarahisar    merkez             karsiyaka\n",
      "79   afyonkarahisar    merkez  maresal_fevzi_cakmak\n",
      "224  afyonkarahisar    merkez             karsiyaka\n",
      "162  afyonkarahisar    merkez                 zafer\n",
      "158  afyonkarahisar    merkez              kocatepe\n",
      "43   afyonkarahisar    merkez              kocatepe\n",
      "216  afyonkarahisar    merkez            battalgazi\n",
      "114  afyonkarahisar    merkez                 zafer\n",
      "55   afyonkarahisar    merkez            dumlupinar\n",
      "83   afyonkarahisar    merkez               erenler\n",
      "103  afyonkarahisar    merkez              selcuklu\n",
      "155  afyonkarahisar    merkez               erenler\n",
      "20   afyonkarahisar    merkez  maresal_fevzi_cakmak\n",
      "221  afyonkarahisar    merkez              selcuklu\n",
      "66   afyonkarahisar    merkez            dumlupinar\n",
      "185  afyonkarahisar    merkez               kanlica\n",
      "34   afyonkarahisar    merkez      hattat_karahisar\n",
      "48   afyonkarahisar    merkez               erenler\n",
      "177  afyonkarahisar    merkez               burmali\n",
      "217  afyonkarahisar    merkez            cumhuriyet\n",
      "214  afyonkarahisar    merkez               erenler\n",
      "12   afyonkarahisar    merkez       erkmen_hurriyet\n",
      "33   afyonkarahisar    merkez            dumlupinar\n",
      "57   afyonkarahisar    merkez              selcuklu\n"
     ]
    }
   ],
   "source": [
    "print(df[['city', 'district', 'neighborhood']].sample(50))\n"
   ]
  },
  {
   "cell_type": "code",
   "execution_count": 106,
   "id": "a5450527",
   "metadata": {},
   "outputs": [
    {
     "name": "stdout",
     "output_type": "stream",
     "text": [
      "['2 +\\n                          1' '3 +\\n                          1'\n",
      " '4 +\\n                          1' '1 +\\n                          1'\n",
      " '6 +\\n                          2' '2 +\\n                          0'\n",
      " '6 +\\n                          1' '5 +\\n                          1'\n",
      " '5 +\\n                          2' '3 +\\n                          3']\n"
     ]
    }
   ],
   "source": [
    "print(df['celly'].unique())\n"
   ]
  },
  {
   "cell_type": "code",
   "execution_count": 107,
   "id": "fd3df535",
   "metadata": {},
   "outputs": [],
   "source": [
    "df['celly'] = df['celly'].apply(lambda x: x.replace('Stüdyo', '1 + 0'))\n",
    "df['celly'] = df['celly'].apply(lambda x: x.replace('\\n', ''))\n",
    "df['room'] = df['celly'].apply(lambda x: x.split('+')[0]).astype(int)\n",
    "df['living_room'] = df['celly'].apply(lambda x: x.split('+')[1]).astype(int)"
   ]
  },
  {
   "cell_type": "code",
   "execution_count": 108,
   "id": "72ed58d7",
   "metadata": {},
   "outputs": [
    {
     "name": "stdout",
     "output_type": "stream",
     "text": [
      "[2 3 4 1 6 5]\n",
      "[1 2 0 3]\n"
     ]
    }
   ],
   "source": [
    "print(df['room'].unique())\n",
    "print(df['living_room'].unique())"
   ]
  },
  {
   "cell_type": "code",
   "execution_count": 109,
   "id": "18b1cef9",
   "metadata": {},
   "outputs": [
    {
     "name": "stdout",
     "output_type": "stream",
     "text": [
      "<class 'pandas.core.frame.DataFrame'>\n",
      "RangeIndex: 232 entries, 0 to 231\n",
      "Data columns (total 18 columns):\n",
      " #   Column              Non-Null Count  Dtype  \n",
      "---  ------              --------------  -----  \n",
      " 0   img-link href       232 non-null    object \n",
      " 1   photo-count         231 non-null    float64\n",
      " 2   list-view-price     232 non-null    object \n",
      " 3   list-view-date      232 non-null    object \n",
      " 4   celly               232 non-null    object \n",
      " 5   celly 2             232 non-null    object \n",
      " 6   celly 3             232 non-null    object \n",
      " 7   celly 4             232 non-null    object \n",
      " 8   list-view-header    232 non-null    object \n",
      " 9   list-view-location  232 non-null    object \n",
      " 10  wp-btn              228 non-null    object \n",
      " 11  he-lazy-image src   201 non-null    object \n",
      " 12  location            232 non-null    object \n",
      " 13  city                232 non-null    object \n",
      " 14  district            232 non-null    object \n",
      " 15  neighborhood        232 non-null    object \n",
      " 16  room                232 non-null    int64  \n",
      " 17  living_room         232 non-null    int64  \n",
      "dtypes: float64(1), int64(2), object(15)\n",
      "memory usage: 32.8+ KB\n",
      "None\n"
     ]
    }
   ],
   "source": [
    "print(df.info())"
   ]
  },
  {
   "cell_type": "code",
   "execution_count": 112,
   "id": "f7c187c7",
   "metadata": {},
   "outputs": [
    {
     "name": "stdout",
     "output_type": "stream",
     "text": [
      "['102 m²' '105 m²' '120 m²' '124 m²' '170 m²' '125 m²' '53 m²' '54 m²'\n",
      " '134 m²' '60 m²' '236 m²' '180 m²' '88 m²' '140 m²' '130 m²' '90 m²'\n",
      " '48 m²' '95 m²' '165 m²' '110 m²' '50 m²' '117 m²' '58 m²' '55 m²'\n",
      " '160 m²' '135 m²' '100 m²' '65 m²' '159 m²' '145 m²' '115 m²' '175 m²'\n",
      " '85 m²' '155 m²' '200 m²' '56 m²' '57 m²' '280 m²' '150 m²' '137 m²'\n",
      " '220 m²' '76 m²' '108 m²' '52 m²' '75 m²' '196 m²' '92 m²' '240 m²'\n",
      " '185 m²' '138 m²' '256 m²' '97 m²' '73 m²' '70 m²' '156 m²' '113 m²'\n",
      " '116 m²']\n"
     ]
    }
   ],
   "source": [
    "print(df['celly 2'].unique())"
   ]
  },
  {
   "cell_type": "code",
   "execution_count": null,
   "id": "d14286ff",
   "metadata": {},
   "outputs": [],
   "source": [
    "# m' ve binlik gösterimi noktayı sildim\n",
    "df['celly 2'] = df['celly 2'].apply(lambda x: x.replace('.', ''))\n",
    "df['area'] = df['celly 2'].apply(lambda x: x.split(' ')[0]).astype(int)\n"
   ]
  },
  {
   "cell_type": "code",
   "execution_count": 115,
   "id": "6b1c6a5d",
   "metadata": {},
   "outputs": [
    {
     "name": "stdout",
     "output_type": "stream",
     "text": [
      "[102 105 120 124 170 125  53  54 134  60 236 180  88 140 130  90  48  95\n",
      " 165 110  50 117  58  55 160 135 100  65 159 145 115 175  85 155 200  56\n",
      "  57 280 150 137 220  76 108  52  75 196  92 240 185 138 256  97  73  70\n",
      " 156 113 116]\n"
     ]
    }
   ],
   "source": [
    "print(df['area'].unique())"
   ]
  },
  {
   "cell_type": "code",
   "execution_count": 116,
   "id": "4d282ec8",
   "metadata": {},
   "outputs": [
    {
     "name": "stdout",
     "output_type": "stream",
     "text": [
      "<class 'pandas.core.frame.DataFrame'>\n",
      "RangeIndex: 232 entries, 0 to 231\n",
      "Data columns (total 18 columns):\n",
      " #   Column              Non-Null Count  Dtype  \n",
      "---  ------              --------------  -----  \n",
      " 0   img-link href       232 non-null    object \n",
      " 1   photo-count         231 non-null    float64\n",
      " 2   list-view-price     232 non-null    object \n",
      " 3   list-view-date      232 non-null    object \n",
      " 4   celly               232 non-null    object \n",
      " 5   celly 3             232 non-null    object \n",
      " 6   celly 4             232 non-null    object \n",
      " 7   list-view-header    232 non-null    object \n",
      " 8   list-view-location  232 non-null    object \n",
      " 9   wp-btn              228 non-null    object \n",
      " 10  he-lazy-image src   201 non-null    object \n",
      " 11  location            232 non-null    object \n",
      " 12  city                232 non-null    object \n",
      " 13  district            232 non-null    object \n",
      " 14  neighborhood        232 non-null    object \n",
      " 15  room                232 non-null    int64  \n",
      " 16  living_room         232 non-null    int64  \n",
      " 17  area                232 non-null    int64  \n",
      "dtypes: float64(1), int64(3), object(14)\n",
      "memory usage: 32.8+ KB\n",
      "None\n"
     ]
    }
   ],
   "source": [
    "drop_columns(df, ['celly 2'])\n",
    "print(df.info())"
   ]
  },
  {
   "cell_type": "code",
   "execution_count": 117,
   "id": "b9e6e0c3",
   "metadata": {},
   "outputs": [
    {
     "name": "stdout",
     "output_type": "stream",
     "text": [
      "['1\\n                        Yaşında'\n",
      " '13\\n                        Yaşında'\n",
      " '23\\n                        Yaşında'\n",
      " '16\\n                        Yaşında'\n",
      " '26\\n                        Yaşında' 'Sıfır Bina'\n",
      " '31\\n                        Yaşında'\n",
      " '5\\n                        Yaşında' '4\\n                        Yaşında'\n",
      " '21\\n                        Yaşında'\n",
      " '9\\n                        Yaşında'\n",
      " '20\\n                        Yaşında'\n",
      " '8\\n                        Yaşında'\n",
      " '11\\n                        Yaşında'\n",
      " '3\\n                        Yaşında' '6\\n                        Yaşında'\n",
      " '29\\n                        Yaşında'\n",
      " '15\\n                        Yaşında'\n",
      " '33\\n                        Yaşında'\n",
      " '40\\n                        Yaşında'\n",
      " '10\\n                        Yaşında'\n",
      " '2\\n                        Yaşında'\n",
      " '27\\n                        Yaşında'\n",
      " '25\\n                        Yaşında'\n",
      " '7\\n                        Yaşında'\n",
      " '18\\n                        Yaşında'\n",
      " '30\\n                        Yaşında'\n",
      " '14\\n                        Yaşında'\n",
      " '12\\n                        Yaşında'\n",
      " '35\\n                        Yaşında'\n",
      " '17\\n                        Yaşında'\n",
      " '28\\n                        Yaşında'\n",
      " '22\\n                        Yaşında']\n"
     ]
    }
   ],
   "source": [
    "print(df['celly 3'].unique())"
   ]
  },
  {
   "cell_type": "code",
   "execution_count": 118,
   "id": "1a4f4ace",
   "metadata": {},
   "outputs": [],
   "source": [
    "df['celly 3'] = df['celly 3'].apply(lambda x: x.replace('Sıfır Bina', '0 Yaşında'))\n",
    "df['celly 3'] = df['celly 3'].apply(lambda x: x.replace('\\n', ' '))\n",
    "df['age'] = df['celly 3'].apply(lambda x: x.split(' ')[0]).astype(int)\n"
   ]
  },
  {
   "cell_type": "code",
   "execution_count": 119,
   "id": "cf957863",
   "metadata": {},
   "outputs": [
    {
     "name": "stdout",
     "output_type": "stream",
     "text": [
      "[ 1 13 23 16 26  0 31  5  4 21  9 20  8 11  3  6 29 15 33 40 10  2 27 25\n",
      "  7 18 30 14 12 35 17 28 22]\n"
     ]
    }
   ],
   "source": [
    "print (df['age'].unique())"
   ]
  },
  {
   "cell_type": "code",
   "execution_count": 120,
   "id": "27af2da9",
   "metadata": {},
   "outputs": [
    {
     "name": "stdout",
     "output_type": "stream",
     "text": [
      "<class 'pandas.core.frame.DataFrame'>\n",
      "RangeIndex: 232 entries, 0 to 231\n",
      "Data columns (total 18 columns):\n",
      " #   Column              Non-Null Count  Dtype  \n",
      "---  ------              --------------  -----  \n",
      " 0   img-link href       232 non-null    object \n",
      " 1   photo-count         231 non-null    float64\n",
      " 2   list-view-price     232 non-null    object \n",
      " 3   list-view-date      232 non-null    object \n",
      " 4   celly               232 non-null    object \n",
      " 5   celly 4             232 non-null    object \n",
      " 6   list-view-header    232 non-null    object \n",
      " 7   list-view-location  232 non-null    object \n",
      " 8   wp-btn              228 non-null    object \n",
      " 9   he-lazy-image src   201 non-null    object \n",
      " 10  location            232 non-null    object \n",
      " 11  city                232 non-null    object \n",
      " 12  district            232 non-null    object \n",
      " 13  neighborhood        232 non-null    object \n",
      " 14  room                232 non-null    int64  \n",
      " 15  living_room         232 non-null    int64  \n",
      " 16  area                232 non-null    int64  \n",
      " 17  age                 232 non-null    int64  \n",
      "dtypes: float64(1), int64(4), object(13)\n",
      "memory usage: 32.8+ KB\n",
      "None\n"
     ]
    }
   ],
   "source": [
    "drop_columns(df, ['celly 3'])\n",
    "print(df.info())\n"
   ]
  },
  {
   "cell_type": "code",
   "execution_count": 121,
   "id": "4daa5b92",
   "metadata": {},
   "outputs": [
    {
     "name": "stdout",
     "output_type": "stream",
     "text": [
      "['1. Kat' 'Ara Kat' '3. Kat' '4. Kat' '2. Kat' 'Bodrum' 'Yüksek Giriş'\n",
      " '5. Kat' 'Kot 3' 'Zemin' 'Giriş Katı' 'En Üst Kat' '6. Kat' 'Bahçe Katı'\n",
      " 'Kot 1' '10. Kat' 'Bodrum ve Zemin' '7. Kat' 'Villa Katı']\n"
     ]
    }
   ],
   "source": [
    "print (df['celly 4'].unique())"
   ]
  },
  {
   "cell_type": "code",
   "execution_count": 127,
   "id": "3e8892b9",
   "metadata": {},
   "outputs": [],
   "source": [
    "replace_dict = {\n",
    "    'Kot 3': '-3. Kat',\n",
    "    'Kot 1': '-1. Kat',\n",
    "    'Yüksek Giriş': '1. Kat',\n",
    "    'Ara Kat': '3. Kat',\n",
    "    'En Üst Kat': '5. Kat',\n",
    "    'Bahçe Katı': '0. Kat',\n",
    "    'Bodrum ve Zemin': '0. Kat',\n",
    "    'Bodrum': '0. Kat',\n",
    "    'Kot 3': '-3. Kat',\n",
    "    'Çatı Katı': '5. Kat',\n",
    "    'Zemin': '0. Kat',\n",
    "    'Giriş Katı': '0. Kat',\n",
    "    'Villa Katı': '0. Kat',\n",
    "    '21 ve üzeri': '21. Kat',\n",
    "    'Bodrum ve Zemin': '0. Kat',\n",
    "    'Asma Kat': '1. Kat',\n",
    "    'Tripleks': '0. Kat',\n",
    "    \n",
    "}\n",
    "\n",
    "df['celly 4'] = df['celly 4'].replace(replace_dict.keys(), replace_dict.values()).astype(str)\n",
    "df['celly 4'].dropna(inplace=True)\n",
    "df['floor'] = df['celly 4'].apply(lambda x: x.split('.')[0]).astype(int)\n",
    "\n"
   ]
  },
  {
   "cell_type": "code",
   "execution_count": 129,
   "id": "c67a0bae",
   "metadata": {},
   "outputs": [
    {
     "name": "stdout",
     "output_type": "stream",
     "text": [
      "[ 1  3  4  2  0  5 -3  6 -1 10  7]\n"
     ]
    }
   ],
   "source": [
    "print(df['floor'].unique())"
   ]
  },
  {
   "cell_type": "code",
   "execution_count": 130,
   "id": "3599dd62",
   "metadata": {},
   "outputs": [
    {
     "name": "stdout",
     "output_type": "stream",
     "text": [
      "<class 'pandas.core.frame.DataFrame'>\n",
      "RangeIndex: 232 entries, 0 to 231\n",
      "Data columns (total 19 columns):\n",
      " #   Column              Non-Null Count  Dtype  \n",
      "---  ------              --------------  -----  \n",
      " 0   img-link href       232 non-null    object \n",
      " 1   photo-count         231 non-null    float64\n",
      " 2   list-view-price     232 non-null    object \n",
      " 3   list-view-date      232 non-null    object \n",
      " 4   celly               232 non-null    object \n",
      " 5   list-view-header    232 non-null    object \n",
      " 6   list-view-location  232 non-null    object \n",
      " 7   wp-btn              228 non-null    object \n",
      " 8   he-lazy-image src   201 non-null    object \n",
      " 9   location            232 non-null    object \n",
      " 10  city                232 non-null    object \n",
      " 11  district            232 non-null    object \n",
      " 12  neighborhood        232 non-null    object \n",
      " 13  room                232 non-null    int64  \n",
      " 14  living_room         232 non-null    int64  \n",
      " 15  area                232 non-null    int64  \n",
      " 16  age                 232 non-null    int64  \n",
      " 17  deneme              232 non-null    object \n",
      " 18  floor               232 non-null    int64  \n",
      "dtypes: float64(1), int64(5), object(13)\n",
      "memory usage: 34.6+ KB\n",
      "None\n"
     ]
    }
   ],
   "source": [
    "drop_columns(df, ['celly 4'])\n",
    "print(df.info())\n"
   ]
  },
  {
   "cell_type": "code",
   "execution_count": 131,
   "id": "fb222c52",
   "metadata": {},
   "outputs": [
    {
     "name": "stdout",
     "output_type": "stream",
     "text": [
      "<bound method Series.unique of 0      4.350.000\n",
      "1      2.300.000\n",
      "2      3.250.000\n",
      "3      2.950.000\n",
      "4      5.750.000\n",
      "         ...    \n",
      "227    1.925.000\n",
      "228    9.800.000\n",
      "229    2.750.000\n",
      "230    2.350.000\n",
      "231    3.250.000\n",
      "Name: list-view-price, Length: 232, dtype: object>\n"
     ]
    }
   ],
   "source": [
    "print(df['list-view-price'].unique)"
   ]
  },
  {
   "cell_type": "code",
   "execution_count": 132,
   "id": "52f51815",
   "metadata": {},
   "outputs": [],
   "source": [
    "df['list-view-price'] = df['list-view-price'].astype(str).apply(lambda x: x.replace('.', ''))\n",
    "df['price'] = df['list-view-price'].astype(int)"
   ]
  },
  {
   "cell_type": "code",
   "execution_count": 133,
   "id": "746c1564",
   "metadata": {},
   "outputs": [
    {
     "name": "stdout",
     "output_type": "stream",
     "text": [
      "[4350000 2300000 3250000 2950000 5750000 4100000 1200000 5950000 2600000\n",
      " 2900000 3190000 5150000 6000000 1350000 2500000 3800000 4665000 2550000\n",
      " 4000000 2750000 3650000 3700000 4500000 2340000 1500000 4200000 2250000\n",
      " 2425000 4490000 4050000 4400000 2775000 2350000 4550000 3750000 1520000\n",
      " 2280000 3200000 1975000 2450000 1300000 3550000 4480000 1750000 2400000\n",
      " 6850000 3350000 2580000 1800000 2850000 3900000 3600000 2975000 2200000\n",
      " 1700000 1950000 4650000 3100000 4850000 3000000 4600000 1475000 1775000\n",
      " 2000000 2700000 2875000 1460000 8250000 3950000 1497000 1450000 4150000\n",
      " 2050000 6350000 5300000 2720000 4250000 1150000 1900000 2650000 1650000\n",
      " 3500000 1480000 1175000 3450000 3300000 3850000 1260000 5200000 1399999\n",
      " 4025000 6200000 1525000 3150000 1620000 1170000 5800000  920000 5000000\n",
      " 5250000 4690000 1270000 2890000 6600000 9450000 3400000 5500000 1550000\n",
      " 1400000 1870000  655000 5400000 5100000 4300000 1380000 2670000 2800000\n",
      " 2620000 1925000 9800000]\n"
     ]
    }
   ],
   "source": [
    "print(df['price'].unique())"
   ]
  },
  {
   "cell_type": "code",
   "execution_count": 134,
   "id": "b085cb38",
   "metadata": {},
   "outputs": [],
   "source": [
    "drop_columns(df, ['list-view-price'])"
   ]
  },
  {
   "cell_type": "code",
   "execution_count": 135,
   "id": "8f88ac22",
   "metadata": {},
   "outputs": [
    {
     "name": "stdout",
     "output_type": "stream",
     "text": [
      "Index(['img-link href', 'photo-count', 'list-view-date', 'celly',\n",
      "       'list-view-header', 'list-view-location', 'wp-btn', 'he-lazy-image src',\n",
      "       'location', 'city', 'district', 'neighborhood', 'room', 'living_room',\n",
      "       'area', 'age', 'deneme', 'floor', 'price'],\n",
      "      dtype='object')\n"
     ]
    }
   ],
   "source": [
    "print(df.columns)\n"
   ]
  },
  {
   "cell_type": "code",
   "execution_count": 136,
   "id": "96587f75",
   "metadata": {},
   "outputs": [
    {
     "name": "stdout",
     "output_type": "stream",
     "text": [
      "<class 'pandas.core.frame.DataFrame'>\n",
      "RangeIndex: 232 entries, 0 to 231\n",
      "Data columns (total 19 columns):\n",
      " #   Column              Non-Null Count  Dtype  \n",
      "---  ------              --------------  -----  \n",
      " 0   img-link href       232 non-null    object \n",
      " 1   photo-count         231 non-null    float64\n",
      " 2   list-view-date      232 non-null    object \n",
      " 3   celly               232 non-null    object \n",
      " 4   list-view-header    232 non-null    object \n",
      " 5   list-view-location  232 non-null    object \n",
      " 6   wp-btn              228 non-null    object \n",
      " 7   he-lazy-image src   201 non-null    object \n",
      " 8   location            232 non-null    object \n",
      " 9   city                232 non-null    object \n",
      " 10  district            232 non-null    object \n",
      " 11  neighborhood        232 non-null    object \n",
      " 12  room                232 non-null    int64  \n",
      " 13  living_room         232 non-null    int64  \n",
      " 14  area                232 non-null    int64  \n",
      " 15  age                 232 non-null    int64  \n",
      " 16  deneme              232 non-null    object \n",
      " 17  floor               232 non-null    int64  \n",
      " 18  price               232 non-null    int64  \n",
      "dtypes: float64(1), int64(6), object(12)\n",
      "memory usage: 34.6+ KB\n",
      "None\n"
     ]
    }
   ],
   "source": [
    "print(df.info())"
   ]
  },
  {
   "cell_type": "code",
   "execution_count": 138,
   "id": "8f55e09f",
   "metadata": {},
   "outputs": [],
   "source": [
    "\n",
    "# ilk 7 sütunu (indeks 0..6) sil\n",
    "df.drop(columns=df.columns[:7], inplace=True)\n",
    "# veya kopya olarak:\n",
    "# df = df.iloc[:, 7:]"
   ]
  },
  {
   "cell_type": "code",
   "execution_count": 139,
   "id": "e7919c9a",
   "metadata": {},
   "outputs": [],
   "source": [
    "df.columns = df.columns.str.strip()"
   ]
  },
  {
   "cell_type": "code",
   "execution_count": 140,
   "id": "4f868a1e",
   "metadata": {},
   "outputs": [
    {
     "name": "stdout",
     "output_type": "stream",
     "text": [
      "<class 'pandas.core.frame.DataFrame'>\n",
      "RangeIndex: 232 entries, 0 to 231\n",
      "Data columns (total 12 columns):\n",
      " #   Column             Non-Null Count  Dtype \n",
      "---  ------             --------------  ----- \n",
      " 0   he-lazy-image src  201 non-null    object\n",
      " 1   location           232 non-null    object\n",
      " 2   city               232 non-null    object\n",
      " 3   district           232 non-null    object\n",
      " 4   neighborhood       232 non-null    object\n",
      " 5   room               232 non-null    int64 \n",
      " 6   living_room        232 non-null    int64 \n",
      " 7   area               232 non-null    int64 \n",
      " 8   age                232 non-null    int64 \n",
      " 9   deneme             232 non-null    object\n",
      " 10  floor              232 non-null    int64 \n",
      " 11  price              232 non-null    int64 \n",
      "dtypes: int64(6), object(6)\n",
      "memory usage: 21.9+ KB\n",
      "None\n"
     ]
    }
   ],
   "source": [
    "print(df.info())"
   ]
  },
  {
   "cell_type": "code",
   "execution_count": null,
   "id": "0515333c",
   "metadata": {},
   "outputs": [],
   "source": []
  }
 ],
 "metadata": {
  "kernelspec": {
   "display_name": "Python 3",
   "language": "python",
   "name": "python3"
  },
  "language_info": {
   "codemirror_mode": {
    "name": "ipython",
    "version": 3
   },
   "file_extension": ".py",
   "mimetype": "text/x-python",
   "name": "python",
   "nbconvert_exporter": "python",
   "pygments_lexer": "ipython3",
   "version": "3.13.0"
  }
 },
 "nbformat": 4,
 "nbformat_minor": 5
}
